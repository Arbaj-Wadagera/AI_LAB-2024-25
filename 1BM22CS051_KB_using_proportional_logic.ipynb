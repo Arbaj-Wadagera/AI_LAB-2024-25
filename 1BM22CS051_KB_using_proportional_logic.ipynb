{
  "nbformat": 4,
  "nbformat_minor": 0,
  "metadata": {
    "colab": {
      "provenance": [],
      "authorship_tag": "ABX9TyNpwwKONmXsGFIlERsAHyaS",
      "include_colab_link": true
    },
    "kernelspec": {
      "name": "python3",
      "display_name": "Python 3"
    },
    "language_info": {
      "name": "python"
    }
  },
  "cells": [
    {
      "cell_type": "markdown",
      "metadata": {
        "id": "view-in-github",
        "colab_type": "text"
      },
      "source": [
        "<a href=\"https://colab.research.google.com/github/Arbaj-Wadagera/AI_LAB-2024-25/blob/main/1BM22CS051_KB_using_proportional_logic.ipynb\" target=\"_parent\"><img src=\"https://colab.research.google.com/assets/colab-badge.svg\" alt=\"Open In Colab\"/></a>"
      ]
    },
    {
      "cell_type": "code",
      "source": [
        "import sympy\n",
        "from sympy.logic.boolalg import Or, And, Not, Implies\n",
        "from sympy import symbols\n",
        "from sympy.parsing.sympy_parser import parse_expr\n",
        "from itertools import product\n",
        "\n",
        "def define_variables(variable_names):\n",
        "    return {var: symbols(var) for var in variable_names}\n",
        "\n",
        "def parse_formula(formula, variables):\n",
        "    formula = formula.replace(\"->\", \">>\")\n",
        "    formula = formula.replace(\"V\", \"|\")\n",
        "    formula = formula.replace(\"^\", \"&\")\n",
        "    formula = formula.replace(\"~\", \"~\")\n",
        "    return parse_expr(formula, local_dict=variables)\n",
        "\n",
        "def check_entailment(KB, query):\n",
        "    entailment = And(KB, Not(query))\n",
        "    return not sympy.satisfiable(entailment)\n",
        "\n",
        "def get_user_input():\n",
        "    print(\"Enter the Knowledge Base (KB) formulas, separated by commas (e.g., 'P->Q, Q->R, P^Q').\")\n",
        "    print(\"Use '->' for implication, 'V' for OR, '^' for AND, and '~' for NOT.\")\n",
        "    kb_input = input(\"Enter KB: \").strip().split(',')\n",
        "    print(\"Enter the query formula (e.g., 'R').\")\n",
        "    query_input = input(\"Enter Query: \").strip()\n",
        "    return kb_input, query_input\n",
        "\n",
        "def generate_truth_table(variables, KB, query):\n",
        "    print(\"\\nTruth Table for KB and Query:\")\n",
        "    print(\"\\t\".join([str(var) for var in variables] + [\"KB\", \"Query\", \"KB -> Query\"]))\n",
        "    for assignment in product([True, False], repeat=len(variables)):\n",
        "        assignment_dict = dict(zip(variables, assignment))\n",
        "        KB_value = KB.subs(assignment_dict)\n",
        "        query_value = query.subs(assignment_dict)\n",
        "        entailment_value = \"True\" if check_entailment(KB_value, query_value) else \"False\"\n",
        "        row = [str(assignment_dict[var]) for var in variables] + [str(KB_value), str(query_value), entailment_value]\n",
        "        print(\"\\t\".join(row))\n",
        "\n",
        "def main():\n",
        "    kb_input, query_input = get_user_input()\n",
        "    variables = set()\n",
        "    for formula in kb_input + [query_input]:\n",
        "        for char in formula:\n",
        "            if char.isalpha():\n",
        "                variables.add(char)\n",
        "    variable_dict = define_variables(variables)\n",
        "    KB = And(*[parse_formula(formula, variable_dict) for formula in kb_input])\n",
        "    query = parse_formula(query_input, variable_dict)\n",
        "    result = check_entailment(KB, query)\n",
        "    if result:\n",
        "        print(f\"The query '{query_input}' is entailed by the knowledge base.\")\n",
        "    else:\n",
        "        print(f\"The query '{query_input}' is NOT entailed by the knowledge base.\")\n",
        "    generate_truth_table(list(variables), KB, query)\n",
        "\n",
        "if __name__ == \"__main__\":\n",
        "    main()"
      ],
      "metadata": {
        "colab": {
          "base_uri": "https://localhost:8080/"
        },
        "id": "DZ2xNbpnpqba",
        "outputId": "7f72d4dc-490e-48b7-ad06-945770d53f91"
      },
      "execution_count": 20,
      "outputs": [
        {
          "output_type": "stream",
          "name": "stdout",
          "text": [
            "Enter the Knowledge Base (KB) formulas, separated by commas (e.g., 'P->Q, Q->R, P^Q').\n",
            "Use '->' for implication, 'V' for OR, '^' for AND, and '~' for NOT.\n",
            "Enter KB: P->Q, Q->R, P^Q\n",
            "Enter the query formula (e.g., 'R').\n",
            "Enter Query: R\n",
            "The query 'R' is entailed by the knowledge base.\n",
            "\n",
            "Truth Table for KB and Query:\n",
            "Q\tR\tP\tKB\tQuery\tKB -> Query\n",
            "True\tTrue\tTrue\tTrue\tTrue\tTrue\n",
            "True\tTrue\tFalse\tFalse\tTrue\tTrue\n",
            "True\tFalse\tTrue\tFalse\tFalse\tTrue\n",
            "True\tFalse\tFalse\tFalse\tFalse\tTrue\n",
            "False\tTrue\tTrue\tFalse\tTrue\tTrue\n",
            "False\tTrue\tFalse\tFalse\tTrue\tTrue\n",
            "False\tFalse\tTrue\tFalse\tFalse\tTrue\n",
            "False\tFalse\tFalse\tFalse\tFalse\tTrue\n"
          ]
        }
      ]
    }
  ]
}