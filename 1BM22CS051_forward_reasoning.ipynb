{
  "nbformat": 4,
  "nbformat_minor": 0,
  "metadata": {
    "colab": {
      "provenance": [],
      "authorship_tag": "ABX9TyNZ+q+S9EdM5Bj5422HgElD",
      "include_colab_link": true
    },
    "kernelspec": {
      "name": "python3",
      "display_name": "Python 3"
    },
    "language_info": {
      "name": "python"
    }
  },
  "cells": [
    {
      "cell_type": "markdown",
      "metadata": {
        "id": "view-in-github",
        "colab_type": "text"
      },
      "source": [
        "<a href=\"https://colab.research.google.com/github/Arbaj-Wadagera/AI_LAB-2024-25/blob/main/1BM22CS051_forward_reasoning.ipynb\" target=\"_parent\"><img src=\"https://colab.research.google.com/assets/colab-badge.svg\" alt=\"Open In Colab\"/></a>"
      ]
    },
    {
      "cell_type": "code",
      "execution_count": 1,
      "metadata": {
        "colab": {
          "base_uri": "https://localhost:8080/"
        },
        "id": "jvwTR9KdiuXR",
        "outputId": "a0e7fca1-5b6e-44d8-ed96-6628680b4214"
      },
      "outputs": [
        {
          "output_type": "stream",
          "name": "stdout",
          "text": [
            "--- Inference Made ---\n",
            "New Fact Inferred: Sells(Robert,T1,A)\n",
            "Current Knowledge Base: {'Owns(A,T1)', 'American(Robert)', 'Missile(T1)', 'Enemy(A,America)'}\n",
            "-----------------------\n",
            "\n",
            "--- Inference Made ---\n",
            "New Fact Inferred: Weapon(T1)\n",
            "Current Knowledge Base: {'Enemy(A,America)', 'Owns(A,T1)', 'Missile(T1)', 'Sells(Robert,T1,A)', 'American(Robert)'}\n",
            "-----------------------\n",
            "\n",
            "--- Inference Made ---\n",
            "New Fact Inferred: Hostile(A)\n",
            "Current Knowledge Base: {'Enemy(A,America)', 'Weapon(T1)', 'Owns(A,T1)', 'Missile(T1)', 'Sells(Robert,T1,A)', 'American(Robert)'}\n",
            "-----------------------\n",
            "\n",
            "--- Inference Made ---\n",
            "New Fact Inferred: Criminal(Robert)\n",
            "Current Knowledge Base: {'Enemy(A,America)', 'Weapon(T1)', 'Owns(A,T1)', 'Missile(T1)', 'Sells(Robert,T1,A)', 'American(Robert)', 'Hostile(A)'}\n",
            "-----------------------\n",
            "\n",
            "--- Query Result ---\n",
            "Fact Proven: Criminal(Robert)\n",
            "-----------------------\n",
            "\n"
          ]
        },
        {
          "output_type": "execute_result",
          "data": {
            "text/plain": [
              "True"
            ]
          },
          "metadata": {},
          "execution_count": 1
        }
      ],
      "source": [
        "class ForwardChainingFOL:\n",
        "    def __init__(self):\n",
        "        self.facts = set()\n",
        "        self.rules = []\n",
        "\n",
        "    def add_fact(self, fact):\n",
        "        \"\"\"Add a fact to the knowledge base.\"\"\"\n",
        "        self.facts.add(fact)\n",
        "\n",
        "    def add_rule(self, premises, conclusion):\n",
        "        \"\"\"Add a rule to the knowledge base.\"\"\"\n",
        "        self.rules.append((premises, conclusion))\n",
        "\n",
        "    def unify(self, fact, premise):\n",
        "        \"\"\"Attempt to unify a fact with a rule's premise.\"\"\"\n",
        "        if \"(\" not in premise:\n",
        "            return fact == premise\n",
        "        if premise.split(\"(\")[0] != fact.split(\"(\")[0]:\n",
        "            return None\n",
        "\n",
        "        fact_args = fact[fact.index(\"(\") + 1: -1].split(\",\")\n",
        "        premise_args = premise[premise.index(\"(\") + 1: -1].split(\",\")\n",
        "        if len(fact_args) != len(premise_args):\n",
        "            return None\n",
        "\n",
        "        substitution = {}\n",
        "        for f_arg, p_arg in zip(fact_args, premise_args):\n",
        "            if p_arg.islower():\n",
        "                if p_arg in substitution:\n",
        "                    if substitution[p_arg] != f_arg:\n",
        "                        return None\n",
        "                else:\n",
        "                    substitution[p_arg] = f_arg\n",
        "            elif f_arg != p_arg:\n",
        "                return None\n",
        "        return substitution\n",
        "\n",
        "    def apply_substitution(self, expr, substitution):\n",
        "        \"\"\"Apply a substitution to an expression.\"\"\"\n",
        "        if \"(\" not in expr:\n",
        "            return substitution.get(expr, expr)\n",
        "\n",
        "        predicate = expr.split(\"(\")[0]\n",
        "        args = expr[expr.index(\"(\") + 1: -1].split(\",\")\n",
        "        substituted_args = [substitution.get(arg, arg) for arg in args]\n",
        "        return f\"{predicate}({','.join(substituted_args)})\"\n",
        "\n",
        "    def infer(self):\n",
        "        \"\"\"Perform forward chaining to infer all possible facts.\"\"\"\n",
        "        new_inferences = True\n",
        "        while new_inferences:\n",
        "            new_inferences = False\n",
        "            for premises, conclusion in self.rules:\n",
        "                substitutions = []\n",
        "                for premise in premises:\n",
        "                    for fact in self.facts:\n",
        "                        subst = self.unify(fact, premise)\n",
        "                        if subst is not None:\n",
        "                            substitutions.append(subst)\n",
        "                            break\n",
        "\n",
        "                if len(substitutions) == len(premises):\n",
        "                    combined_subst = {}\n",
        "                    for subst in substitutions:\n",
        "                        combined_subst.update(subst)\n",
        "\n",
        "                    inferred_fact = self.apply_substitution(conclusion, combined_subst)\n",
        "                    if inferred_fact not in self.facts:\n",
        "                        self.format_inference_output(inferred_fact)\n",
        "                        self.facts.add(inferred_fact)\n",
        "                        new_inferences = True\n",
        "\n",
        "    def format_inference_output(self, inferred_fact):\n",
        "        \"\"\"Format the output for inferred facts.\"\"\"\n",
        "        print(f\"--- Inference Made ---\")\n",
        "        print(f\"New Fact Inferred: {inferred_fact}\")\n",
        "        print(f\"Current Knowledge Base: {self.facts}\")\n",
        "        print(\"-----------------------\\n\")\n",
        "\n",
        "    def query(self, query_fact):\n",
        "        \"\"\"Query if a specific fact can be inferred.\"\"\"\n",
        "        if query_fact in self.facts:\n",
        "            self.format_query_output(query_fact, True)\n",
        "            return True\n",
        "        else:\n",
        "            self.format_query_output(query_fact, False)\n",
        "            return False\n",
        "\n",
        "    def format_query_output(self, query_fact, is_proved):\n",
        "        \"\"\"Format the output for query results.\"\"\"\n",
        "        if is_proved:\n",
        "            print(f\"--- Query Result ---\")\n",
        "            print(f\"Fact Proven: {query_fact}\")\n",
        "        else:\n",
        "            print(f\"--- Query Result ---\")\n",
        "            print(f\"Fact Could Not Be Proven: {query_fact}\")\n",
        "        print(\"-----------------------\\n\")\n",
        "\n",
        "# Example usage\n",
        "kb = ForwardChainingFOL()\n",
        "\n",
        "kb.add_fact(\"American(Robert)\")\n",
        "kb.add_fact(\"Missile(T1)\")\n",
        "kb.add_fact(\"Owns(A,T1)\")\n",
        "kb.add_fact(\"Enemy(A,America)\")\n",
        "\n",
        "kb.add_rule([\"Missile(x)\", \"Owns(A,x)\"], \"Sells(Robert,x,A)\")\n",
        "kb.add_rule([\"Missile(x)\"], \"Weapon(x)\")\n",
        "kb.add_rule([\"Enemy(x,America)\"], \"Hostile(x)\")\n",
        "kb.add_rule([\"American(p)\", \"Weapon(q)\", \"Sells(p,q,r)\", \"Hostile(r)\"], \"Criminal(p)\")\n",
        "\n",
        "kb.infer()\n",
        "\n",
        "kb.query(\"Criminal(Robert)\")"
      ]
    }
  ]
}