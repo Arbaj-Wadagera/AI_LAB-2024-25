{
  "nbformat": 4,
  "nbformat_minor": 0,
  "metadata": {
    "colab": {
      "provenance": [],
      "authorship_tag": "ABX9TyOJZGkdtPge92/jOCuON5rQ",
      "include_colab_link": true
    },
    "kernelspec": {
      "name": "python3",
      "display_name": "Python 3"
    },
    "language_info": {
      "name": "python"
    }
  },
  "cells": [
    {
      "cell_type": "markdown",
      "metadata": {
        "id": "view-in-github",
        "colab_type": "text"
      },
      "source": [
        "<a href=\"https://colab.research.google.com/github/Arbaj-Wadagera/AI_LAB-2024-25/blob/main/1BM22CS051_Alpha_Beta_Pruning(Algo).ipynb\" target=\"_parent\"><img src=\"https://colab.research.google.com/assets/colab-badge.svg\" alt=\"Open In Colab\"/></a>"
      ]
    },
    {
      "cell_type": "code",
      "source": [
        "class Node:\n",
        "    def __init__(self, value=None):\n",
        "        self.value = value  # Leaf node value (only for terminal nodes)\n",
        "        self.children = []  # Non-leaf nodes have children\n",
        "\n",
        "    def __str__(self):\n",
        "        if self.value is not None:\n",
        "            return f\"Leaf({self.value})\"\n",
        "        return f\"Node({len(self.children)} children)\"\n",
        "\n",
        "def alpha_beta_pruning(node, depth, alpha, beta, maximizing_player):\n",
        "    # If we reach a leaf node or max depth, return the node's value\n",
        "    if depth == 0 or not node.children:\n",
        "        print(f\"Reached leaf: {node.value}\")\n",
        "        return node.value\n",
        "\n",
        "    if maximizing_player:\n",
        "        max_eval = float('-inf')\n",
        "        for child in node.children:\n",
        "            eval = alpha_beta_pruning(child, depth - 1, alpha, beta, False)\n",
        "            max_eval = max(max_eval, eval)\n",
        "            alpha = max(alpha, eval)\n",
        "            print(f\"Maximizing: Alpha = {alpha}, Beta = {beta}\")\n",
        "            if beta <= alpha:\n",
        "                print(f\"Pruning: Beta cut-off at node {node} (Alpha = {alpha}, Beta = {beta})\")\n",
        "                break  # Beta cut-off\n",
        "        return max_eval\n",
        "    else:\n",
        "        min_eval = float('inf')\n",
        "        for child in node.children:\n",
        "            eval = alpha_beta_pruning(child, depth - 1, alpha, beta, True)\n",
        "            min_eval = min(min_eval, eval)\n",
        "            beta = min(beta, eval)\n",
        "            print(f\"Minimizing: Alpha = {alpha}, Beta = {beta}\")\n",
        "            if beta <= alpha:\n",
        "                print(f\"Pruning: Alpha cut-off at node {node} (Alpha = {alpha}, Beta = {beta})\")\n",
        "                break  # Alpha cut-off\n",
        "        return min_eval\n",
        "\n",
        "# Create the tree structure properly\n",
        "root = Node()\n",
        "child1 = Node()\n",
        "child2 = Node()\n",
        "\n",
        "root.children = [child1, child2]\n",
        "\n",
        "# Adding children to child1\n",
        "child1_1 = Node()\n",
        "child1_2 = Node()\n",
        "child1.children = [child1_1, child1_2]\n",
        "\n",
        "# Adding children to child2\n",
        "child2_1 = Node()\n",
        "child2_2 = Node()\n",
        "child2.children = [child2_1, child2_2]\n",
        "\n",
        "# Assign leaf node values\n",
        "child1_1.children = [Node(10), Node(9)]\n",
        "child1_2.children = [Node(14), Node(18)]\n",
        "child2_1.children = [Node(5), Node(4)]\n",
        "child2_2.children = [Node(50), Node(3)]\n",
        "\n",
        "# Run Alpha-Beta pruning\n",
        "depth = 3  # Maximum depth of the tree\n",
        "alpha = float('-inf')\n",
        "beta = float('inf')\n",
        "maximizing_player = True\n",
        "\n",
        "print(\"Alpha-Beta Pruning Process:\")\n",
        "result = alpha_beta_pruning(root, depth, alpha, beta, maximizing_player)\n",
        "print(\"\\nResult of Alpha-Beta pruning at the root node:\", result)\n"
      ],
      "metadata": {
        "colab": {
          "base_uri": "https://localhost:8080/"
        },
        "id": "jVqJ18zj10nJ",
        "outputId": "e824fc5a-d5bd-4385-f954-165440bb6585"
      },
      "execution_count": 20,
      "outputs": [
        {
          "output_type": "stream",
          "name": "stdout",
          "text": [
            "Alpha-Beta Pruning Process:\n",
            "Reached leaf: 10\n",
            "Maximizing: Alpha = 10, Beta = inf\n",
            "Reached leaf: 9\n",
            "Maximizing: Alpha = 10, Beta = inf\n",
            "Minimizing: Alpha = -inf, Beta = 10\n",
            "Reached leaf: 14\n",
            "Maximizing: Alpha = 14, Beta = 10\n",
            "Pruning: Beta cut-off at node Node(2 children) (Alpha = 14, Beta = 10)\n",
            "Minimizing: Alpha = -inf, Beta = 10\n",
            "Maximizing: Alpha = 10, Beta = inf\n",
            "Reached leaf: 5\n",
            "Maximizing: Alpha = 10, Beta = inf\n",
            "Reached leaf: 4\n",
            "Maximizing: Alpha = 10, Beta = inf\n",
            "Minimizing: Alpha = 10, Beta = 5\n",
            "Pruning: Alpha cut-off at node Node(2 children) (Alpha = 10, Beta = 5)\n",
            "Maximizing: Alpha = 10, Beta = inf\n",
            "\n",
            "Result of Alpha-Beta pruning at the root node: 10\n"
          ]
        }
      ]
    }
  ]
}