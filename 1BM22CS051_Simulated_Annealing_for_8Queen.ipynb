{
  "nbformat": 4,
  "nbformat_minor": 0,
  "metadata": {
    "colab": {
      "provenance": [],
      "authorship_tag": "ABX9TyNqIIi5+4l7F5TBTOywYdpA",
      "include_colab_link": true
    },
    "kernelspec": {
      "name": "python3",
      "display_name": "Python 3"
    },
    "language_info": {
      "name": "python"
    }
  },
  "cells": [
    {
      "cell_type": "markdown",
      "metadata": {
        "id": "view-in-github",
        "colab_type": "text"
      },
      "source": [
        "<a href=\"https://colab.research.google.com/github/Arbaj-Wadagera/AI_LAB-2024-25/blob/main/1BM22CS051_Simulated_Annealing_for_8Queen.ipynb\" target=\"_parent\"><img src=\"https://colab.research.google.com/assets/colab-badge.svg\" alt=\"Open In Colab\"/></a>"
      ]
    },
    {
      "cell_type": "code",
      "execution_count": 12,
      "metadata": {
        "colab": {
          "base_uri": "https://localhost:8080/"
        },
        "id": "YC-_fbMXjTTm",
        "outputId": "2e3d3e7e-3ffc-4e63-e110-c0f26a6f8126"
      },
      "outputs": [
        {
          "output_type": "stream",
          "name": "stdout",
          "text": [
            "Enter the initial positions of 8 queens (one per column), using row indices from 0 to 7.\n",
            "Example input: 0 4 7 5 2 6 1 3 (for an initial configuration where\n",
            "Queen 0 is in row 0, Queen 1 is in row 4, etc.)\n",
            "Enter the initial positions: 1 3 0 6 4 7 5 2\n",
            "Iteration 1000: Conflicts = 3\n",
            "Iteration 2000: Conflicts = 7\n",
            "Solution found in 2142 iterations:\n",
            ". . . . . . Q .\n",
            "Q . . . . . . .\n",
            ". . Q . . . . .\n",
            ". . . . . . . Q\n",
            ". . . . . Q . .\n",
            ". . . Q . . . .\n",
            ". Q . . . . . .\n",
            ". . . . Q . . .\n",
            "\n"
          ]
        }
      ],
      "source": [
        "import random\n",
        "import math\n",
        "\n",
        "N = 8\n",
        "\n",
        "def get_user_input():\n",
        "    print(f\"Enter the initial positions of {N} queens (one per column), using row indices from 0 to {N-1}.\")\n",
        "    print(\"Example input: 0 4 7 5 2 6 1 3 (for an initial configuration where\")\n",
        "    print(\"Queen 0 is in row 0, Queen 1 is in row 4, etc.)\")\n",
        "\n",
        "    while True:\n",
        "        user_input = input(f\"Enter the initial positions: \").strip()\n",
        "        try:\n",
        "            positions = list(map(int, user_input.split()))\n",
        "            if len(positions) == N and all(0 <= pos < N for pos in positions):\n",
        "                return positions\n",
        "            else:\n",
        "                print(f\"Invalid input. Please enter {N} integers between 0 and {N-1}.\")\n",
        "        except ValueError:\n",
        "            print(\"Invalid input. Please enter a space-separated list of integers.\")\n",
        "\n",
        "def calculate_conflicts(board):\n",
        "    conflicts = 0\n",
        "    for i in range(N):\n",
        "        for j in range(i + 1, N):\n",
        "            if board[i] == board[j] or abs(board[i] - board[j]) == abs(i - j):\n",
        "                conflicts += 1\n",
        "    return conflicts\n",
        "\n",
        "def get_neighbors(board):\n",
        "    neighbors = []\n",
        "    for _ in range(N * N):\n",
        "        new_board = board[:]\n",
        "        col1, col2 = random.sample(range(N), 2)\n",
        "        new_board[col1], new_board[col2] = new_board[col2], new_board[col1]\n",
        "        neighbors.append(new_board)\n",
        "    return neighbors\n",
        "\n",
        "def simulated_annealing(initial_state, max_iter=10000):\n",
        "    current_state = initial_state\n",
        "    current_conflicts = calculate_conflicts(current_state)\n",
        "\n",
        "    temperature = 10000\n",
        "    cooling_rate = 0.9995\n",
        "    min_temperature = 1e-3\n",
        "\n",
        "    iter_count = 0\n",
        "    stagnation_counter = 0\n",
        "    prev_conflicts = current_conflicts\n",
        "\n",
        "    while temperature > min_temperature and iter_count < max_iter:\n",
        "        iter_count += 1\n",
        "        neighbors = get_neighbors(current_state)\n",
        "        next_state = random.choice(neighbors)\n",
        "        next_conflicts = calculate_conflicts(next_state)\n",
        "\n",
        "        if next_conflicts < current_conflicts:\n",
        "            current_state = next_state\n",
        "            current_conflicts = next_conflicts\n",
        "            stagnation_counter = 0\n",
        "        else:\n",
        "            probability = math.exp((current_conflicts - next_conflicts) / temperature)\n",
        "            if random.random() < probability:\n",
        "                current_state = next_state\n",
        "                current_conflicts = next_conflicts\n",
        "            stagnation_counter += 1\n",
        "\n",
        "        temperature *= cooling_rate\n",
        "\n",
        "        if iter_count % 1000 == 0:\n",
        "            print(f\"Iteration {iter_count}: Conflicts = {current_conflicts}\")\n",
        "\n",
        "        if current_conflicts == 0:\n",
        "            return current_state, iter_count\n",
        "\n",
        "        if stagnation_counter > 1000:\n",
        "            print(\"Stuck for too long, perturbing the configuration...\")\n",
        "            col1, col2 = random.sample(range(N), 2)\n",
        "            current_state[col1], current_state[col2] = current_state[col2], current_state[col1]\n",
        "            stagnation_counter = 0\n",
        "\n",
        "    return current_state, iter_count\n",
        "\n",
        "def print_board(board):\n",
        "    for row in range(N):\n",
        "        board_row = ['Q' if board[col] == row else '.' for col in range(N)]\n",
        "        print(\" \".join(board_row))\n",
        "    print()\n",
        "\n",
        "initial_state = get_user_input()\n",
        "\n",
        "solution, total_iterations = simulated_annealing(initial_state)\n",
        "\n",
        "if calculate_conflicts(solution) == 0:\n",
        "    print(f\"Solution found in {total_iterations} iterations:\")\n",
        "    print_board(solution)\n",
        "else:\n",
        "    print(\"No solution found.\")\n"
      ]
    }
  ]
}