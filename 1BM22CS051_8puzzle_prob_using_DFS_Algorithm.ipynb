{
  "nbformat": 4,
  "nbformat_minor": 0,
  "metadata": {
    "colab": {
      "provenance": [],
      "authorship_tag": "ABX9TyM9zHiV+4Fx6tXccUpj7vLK",
      "include_colab_link": true
    },
    "kernelspec": {
      "name": "python3",
      "display_name": "Python 3"
    },
    "language_info": {
      "name": "python"
    }
  },
  "cells": [
    {
      "cell_type": "markdown",
      "metadata": {
        "id": "view-in-github",
        "colab_type": "text"
      },
      "source": [
        "<a href=\"https://colab.research.google.com/github/Arbaj-Wadagera/AI_LAB-2024-25/blob/main/1BM22CS051_8puzzle_prob_using_DFS_Algorithm.ipynb\" target=\"_parent\"><img src=\"https://colab.research.google.com/assets/colab-badge.svg\" alt=\"Open In Colab\"/></a>"
      ]
    },
    {
      "cell_type": "code",
      "execution_count": 2,
      "metadata": {
        "colab": {
          "base_uri": "https://localhost:8080/"
        },
        "id": "44z1WMXHb-gJ",
        "outputId": "4dbe3e5c-20c5-4e10-ec7b-cdb64c6807e3"
      },
      "outputs": [
        {
          "output_type": "stream",
          "name": "stdout",
          "text": [
            "Running DFS...\n",
            "DFS Solution:\n",
            "[1, 2, 3]\n",
            "[4, 5, 6]\n",
            "[7, 8, 0]\n",
            "Number of Steps: 2778\n"
          ]
        },
        {
          "output_type": "execute_result",
          "data": {
            "text/plain": [
              "[1, 2, 3, 4, 5, 6, 7, 8, 0]"
            ]
          },
          "metadata": {},
          "execution_count": 2
        }
      ],
      "source": [
        "from collections import deque\n",
        "\n",
        "def dfs(state, goal_state):\n",
        "    stack = deque([state])\n",
        "    visited = set()\n",
        "    steps = 0\n",
        "    while stack:\n",
        "        current_state = stack.pop()\n",
        "        if tuple(current_state) in visited:\n",
        "            continue\n",
        "        visited.add(tuple(current_state))\n",
        "        steps += 1\n",
        "        if current_state == goal_state:\n",
        "            print(\"DFS Solution:\")\n",
        "            print_matrix(current_state)\n",
        "            print(f\"Number of Steps: {steps}\")\n",
        "            return current_state\n",
        "        next_states = get_next_states(current_state)\n",
        "        for next_state in next_states:\n",
        "            stack.append(next_state)\n",
        "    return None\n",
        "\n",
        "def get_next_states(state):\n",
        "    next_states = []\n",
        "    blank_index = state.index(0)\n",
        "    if blank_index > 2:\n",
        "        next_state = state.copy()\n",
        "        next_state[blank_index], next_state[blank_index - 3] = next_state[blank_index - 3], next_state[blank_index]\n",
        "        next_states.append(next_state)\n",
        "    if blank_index < 6:\n",
        "        next_state = state.copy()\n",
        "        next_state[blank_index], next_state[blank_index + 3] = next_state[blank_index + 3], next_state[blank_index]\n",
        "        next_states.append(next_state)\n",
        "    if blank_index % 3 > 0:\n",
        "        next_state = state.copy()\n",
        "        next_state[blank_index], next_state[blank_index - 1] = next_state[blank_index - 1], next_state[blank_index]\n",
        "        next_states.append(next_state)\n",
        "    if blank_index % 3 < 2:\n",
        "        next_state = state.copy()\n",
        "        next_state[blank_index], next_state[blank_index + 1] = next_state[blank_index + 1], next_state[blank_index]\n",
        "        next_states.append(next_state)\n",
        "    return next_states\n",
        "\n",
        "def print_matrix(state):\n",
        "    for i in range(0, 9, 3):\n",
        "        print(state[i:i+3])\n",
        "\n",
        "initial_state = [4, 1, 3, 7, 2, 6, 5, 8, 0]\n",
        "goal_state = [1, 2, 3, 4, 5, 6, 7, 8, 0]\n",
        "print(\"Running DFS...\")\n",
        "dfs(initial_state, goal_state)"
      ]
    }
  ]
}