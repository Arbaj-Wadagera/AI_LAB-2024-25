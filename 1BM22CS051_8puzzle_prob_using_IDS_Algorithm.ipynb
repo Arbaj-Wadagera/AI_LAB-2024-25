{
  "nbformat": 4,
  "nbformat_minor": 0,
  "metadata": {
    "colab": {
      "provenance": [],
      "authorship_tag": "ABX9TyMBEau8zyV6MWZTxx7X56J4",
      "include_colab_link": true
    },
    "kernelspec": {
      "name": "python3",
      "display_name": "Python 3"
    },
    "language_info": {
      "name": "python"
    }
  },
  "cells": [
    {
      "cell_type": "markdown",
      "metadata": {
        "id": "view-in-github",
        "colab_type": "text"
      },
      "source": [
        "<a href=\"https://colab.research.google.com/github/Arbaj-Wadagera/AI_LAB-2024-25/blob/main/1BM22CS051_8puzzle_prob_using_IDS_Algorithm.ipynb\" target=\"_parent\"><img src=\"https://colab.research.google.com/assets/colab-badge.svg\" alt=\"Open In Colab\"/></a>"
      ]
    },
    {
      "cell_type": "code",
      "execution_count": 19,
      "metadata": {
        "colab": {
          "base_uri": "https://localhost:8080/"
        },
        "id": "_ylIdpjoT4I3",
        "outputId": "240225e4-b4ce-41b7-f0a3-400a4ac60499"
      },
      "outputs": [
        {
          "output_type": "stream",
          "name": "stdout",
          "text": [
            "Running IDS...\n",
            "IDS Solution:\n",
            "[1, 2, 3]\n",
            "[4, 5, 6]\n",
            "[7, 8, 0]\n",
            "Number of Steps: 47\n"
          ]
        },
        {
          "output_type": "execute_result",
          "data": {
            "text/plain": [
              "[1, 2, 3, 4, 5, 6, 7, 8, 0]"
            ]
          },
          "metadata": {},
          "execution_count": 19
        }
      ],
      "source": [
        "from collections import deque\n",
        "\n",
        "def ids(state, goal_state):\n",
        "    depth_limit = 1\n",
        "    while True:\n",
        "        stack = deque([(state, 0)])\n",
        "        visited = set()\n",
        "        steps = 0\n",
        "        while stack:\n",
        "            current_state, current_depth = stack.pop()\n",
        "            if tuple(current_state) in visited:\n",
        "                continue\n",
        "            visited.add(tuple(current_state))\n",
        "            steps += 1\n",
        "            if current_state == goal_state:\n",
        "                print(\"IDS Solution:\")\n",
        "                print_matrix(current_state)\n",
        "                print(f\"Number of Steps: {steps}\")\n",
        "                return current_state\n",
        "            if current_depth < depth_limit:\n",
        "                next_states = get_next_states(current_state)\n",
        "                for next_state in next_states:\n",
        "                    stack.append((next_state, current_depth + 1))\n",
        "        depth_limit += 1\n",
        "    return None\n",
        "\n",
        "def get_next_states(state):\n",
        "    next_states = []\n",
        "    blank_index = state.index(0)\n",
        "    if blank_index > 2:\n",
        "        next_state = state.copy()\n",
        "        next_state[blank_index], next_state[blank_index - 3] = next_state[blank_index - 3], next_state[blank_index]\n",
        "        next_states.append(next_state)\n",
        "    if blank_index < 6:\n",
        "        next_state = state.copy()\n",
        "        next_state[blank_index], next_state[blank_index + 3] = next_state[blank_index + 3], next_state[blank_index]\n",
        "        next_states.append(next_state)\n",
        "    if blank_index % 3 > 0:\n",
        "        next_state = state.copy()\n",
        "        next_state[blank_index], next_state[blank_index - 1] = next_state[blank_index - 1], next_state[blank_index]\n",
        "        next_states.append(next_state)\n",
        "    if blank_index % 3 < 2:\n",
        "        next_state = state.copy()\n",
        "        next_state[blank_index], next_state[blank_index + 1] = next_state[blank_index + 1], next_state[blank_index]\n",
        "        next_states.append(next_state)\n",
        "    return next_states\n",
        "\n",
        "def print_matrix(state):\n",
        "    for i in range(0, 9, 3):\n",
        "        print(state[i:i+3])\n",
        "\n",
        "initial_state = [4, 1, 3, 7, 2, 6, 5, 8, 0]\n",
        "goal_state = [1, 2, 3, 4, 5, 6, 7, 8, 0]\n",
        "print(\"Running IDS...\")\n",
        "ids(initial_state, goal_state)"
      ]
    }
  ]
}