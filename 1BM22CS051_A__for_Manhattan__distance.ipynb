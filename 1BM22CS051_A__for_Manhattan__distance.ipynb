{
  "nbformat": 4,
  "nbformat_minor": 0,
  "metadata": {
    "colab": {
      "provenance": [],
      "authorship_tag": "ABX9TyNBdqPyQ0QW6aa2PujAQmjc",
      "include_colab_link": true
    },
    "kernelspec": {
      "name": "python3",
      "display_name": "Python 3"
    },
    "language_info": {
      "name": "python"
    }
  },
  "cells": [
    {
      "cell_type": "markdown",
      "metadata": {
        "id": "view-in-github",
        "colab_type": "text"
      },
      "source": [
        "<a href=\"https://colab.research.google.com/github/Arbaj-Wadagera/AI_LAB-2024-25/blob/main/1BM22CS051_A__for_Manhattan__distance.ipynb\" target=\"_parent\"><img src=\"https://colab.research.google.com/assets/colab-badge.svg\" alt=\"Open In Colab\"/></a>"
      ]
    },
    {
      "cell_type": "code",
      "execution_count": 3,
      "metadata": {
        "colab": {
          "base_uri": "https://localhost:8080/"
        },
        "id": "CiOgbi_hYrqD",
        "outputId": "8ba82da7-da63-4569-b50c-1f53c851a2af"
      },
      "outputs": [
        {
          "output_type": "stream",
          "name": "stdout",
          "text": [
            "Enter the initial state (9 numbers, 0 for blank): 283164075\n",
            "Enter the goal state (9 numbers): 123804765\n",
            "Solution:\n",
            "[2, 8, 3, 1, 6, 4, 0, 7, 5]\n",
            "g(n) = 0, h(n) = 10, f(n) = 10\n",
            "[2, 8, 3, 1, 6, 4, 7, 0, 5]\n",
            "g(n) = 1, h(n) = 9, f(n) = 10\n",
            "[2, 8, 3, 1, 0, 4, 7, 6, 5]\n",
            "g(n) = 2, h(n) = 10, f(n) = 12\n",
            "[2, 0, 3, 1, 8, 4, 7, 6, 5]\n",
            "g(n) = 3, h(n) = 9, f(n) = 12\n",
            "[0, 2, 3, 1, 8, 4, 7, 6, 5]\n",
            "g(n) = 4, h(n) = 8, f(n) = 12\n",
            "[1, 2, 3, 0, 8, 4, 7, 6, 5]\n",
            "g(n) = 5, h(n) = 7, f(n) = 12\n",
            "[1, 2, 3, 8, 0, 4, 7, 6, 5]\n",
            "g(n) = 6, h(n) = 8, f(n) = 14\n",
            "Total number of steps: 6\n"
          ]
        }
      ],
      "source": [
        "import heapq\n",
        "\n",
        "class PuzzleState:\n",
        "    def __init__(self, board, depth=0, parent=None):\n",
        "        self.board = board\n",
        "        self.depth = depth\n",
        "        self.blank_pos = board.index(0)\n",
        "        self.parent = parent\n",
        "        self.size = int(len(board) ** 0.5)\n",
        "\n",
        "    def __lt__(self, other):\n",
        "        return self.f() < other.f()\n",
        "\n",
        "    def g(self):\n",
        "        return self.depth\n",
        "\n",
        "    def h(self):\n",
        "        total_distance = 0\n",
        "        for i, x in enumerate(self.board):\n",
        "            if x != 0:\n",
        "                goal_x = (x - 1) // self.size\n",
        "                goal_y = (x - 1) % self.size\n",
        "                current_x = i // self.size\n",
        "                current_y = i % self.size\n",
        "                total_distance += abs(goal_x - current_x) + abs(goal_y - current_y)\n",
        "        return total_distance\n",
        "\n",
        "    def f(self):\n",
        "        return self.g() + self.h()\n",
        "\n",
        "    def get_neighbors(self):\n",
        "        neighbors = []\n",
        "        x, y = divmod(self.blank_pos, self.size)\n",
        "        directions = [(0, 1), (1, 0), (0, -1), (-1, 0)]\n",
        "\n",
        "        for dx, dy in directions:\n",
        "            new_x, new_y = x + dx, y + dy\n",
        "            if 0 <= new_x < self.size and 0 <= new_y < self.size:\n",
        "                new_blank_pos = new_x * self.size + new_y\n",
        "                new_board = self.board[:]\n",
        "                new_board[self.blank_pos], new_board[new_blank_pos] = new_board[new_blank_pos], new_board[self.blank_pos]\n",
        "                neighbors.append(PuzzleState(new_board, self.depth + 1, self))\n",
        "\n",
        "        return neighbors\n",
        "\n",
        "def a_star_manhattan(initial_board, goal_board):\n",
        "    initial_state = PuzzleState(initial_board)\n",
        "    open_set = []\n",
        "    heapq.heappush(open_set, initial_state)\n",
        "    closed_set = set()\n",
        "\n",
        "    while open_set:\n",
        "        current_state = heapq.heappop(open_set)\n",
        "\n",
        "        if tuple(current_state.board) == tuple(goal_board):\n",
        "            return current_state\n",
        "\n",
        "        closed_set.add(tuple(current_state.board))\n",
        "\n",
        "        for neighbor in current_state.get_neighbors():\n",
        "            if tuple(neighbor.board) in closed_set:\n",
        "                continue\n",
        "\n",
        "            heapq.heappush(open_set, neighbor)\n",
        "\n",
        "    return None\n",
        "\n",
        "def print_solution(solution):\n",
        "    path = []\n",
        "    while solution:\n",
        "        path.append(solution)  # Store the PuzzleState instead of just the board\n",
        "        solution = solution.parent\n",
        "\n",
        "    print(\"Solution:\")\n",
        "    for step in reversed(path):\n",
        "        print(step.board)\n",
        "        print(f\"g(n) = {step.g()}, h(n) = {step.h()}, f(n) = {step.f()}\")  # Print g(n), h(n), f(n)\n",
        "    print(\"Total number of steps:\", len(path) - 1)\n",
        "\n",
        "def main():\n",
        "    initial_board = list(map(int, input(\"Enter the initial state (9 numbers, 0 for blank): \").strip()))\n",
        "    goal_board = list(map(int, input(\"Enter the goal state (9 numbers): \").strip()))\n",
        "    solution = a_star_manhattan(initial_board, goal_board)\n",
        "    if solution:\n",
        "        print_solution(solution)\n",
        "    else:\n",
        "        print(\"No solution found\")\n",
        "\n",
        "if __name__ == \"__main__\":\n",
        "    main()\n"
      ]
    }
  ]
}